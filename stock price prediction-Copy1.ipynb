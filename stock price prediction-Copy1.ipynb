{
 "cells": [
  {
   "cell_type": "code",
   "execution_count": 1,
   "metadata": {
    "executionInfo": {
     "elapsed": 7027,
     "status": "ok",
     "timestamp": 1618937022097,
     "user": {
      "displayName": "Teng Hoo",
      "photoUrl": "",
      "userId": "14576098628932161159"
     },
     "user_tz": -480
    },
    "id": "2qfB1hnsD3Ow"
   },
   "outputs": [],
   "source": [
    "#Uses LSTM (artificial recurrent neural network) to predict closing stock price \n",
    "#of corporations using the past 60 days"
   ]
  },
  {
   "cell_type": "code",
   "execution_count": 2,
   "metadata": {
    "executionInfo": {
     "elapsed": 5314,
     "status": "ok",
     "timestamp": 1618937020297,
     "user": {
      "displayName": "Teng Hoo",
      "photoUrl": "",
      "userId": "14576098628932161159"
     },
     "user_tz": -480
    },
    "id": "0hocK5ZBD38U"
   },
   "outputs": [],
   "source": [
    "#import libraries\n",
    "import math\n",
    "import pandas_datareader as web\n",
    "import numpy as np\n",
    "import pandas as pd\n",
    "from sklearn.preprocessing import MinMaxScaler, StandardScaler\n",
    "from keras.models import Sequential\n",
    "from keras.layers import Dense,LSTM\n",
    "import matplotlib.pyplot as plt\n",
    "import datetime\n",
    "from sklearn.model_selection import train_test_split"
   ]
  },
  {
   "cell_type": "code",
   "execution_count": 3,
   "metadata": {
    "colab": {
     "base_uri": "https://localhost:8080/",
     "height": 436
    },
    "executionInfo": {
     "elapsed": 7090,
     "status": "ok",
     "timestamp": 1618937022089,
     "user": {
      "displayName": "Teng Hoo",
      "photoUrl": "",
      "userId": "14576098628932161159"
     },
     "user_tz": -480
    },
    "id": "z2UVi2xOD7TG",
    "outputId": "7c7d1bd4-2325-46de-a828-d48e5c05b0d2"
   },
   "outputs": [
    {
     "data": {
      "text/html": [
       "<div>\n",
       "<style scoped>\n",
       "    .dataframe tbody tr th:only-of-type {\n",
       "        vertical-align: middle;\n",
       "    }\n",
       "\n",
       "    .dataframe tbody tr th {\n",
       "        vertical-align: top;\n",
       "    }\n",
       "\n",
       "    .dataframe thead th {\n",
       "        text-align: right;\n",
       "    }\n",
       "</style>\n",
       "<table border=\"1\" class=\"dataframe\">\n",
       "  <thead>\n",
       "    <tr style=\"text-align: right;\">\n",
       "      <th></th>\n",
       "      <th>High</th>\n",
       "      <th>Low</th>\n",
       "      <th>Open</th>\n",
       "      <th>Close</th>\n",
       "      <th>Volume</th>\n",
       "      <th>Adj Close</th>\n",
       "    </tr>\n",
       "    <tr>\n",
       "      <th>Date</th>\n",
       "      <th></th>\n",
       "      <th></th>\n",
       "      <th></th>\n",
       "      <th></th>\n",
       "      <th></th>\n",
       "      <th></th>\n",
       "    </tr>\n",
       "  </thead>\n",
       "  <tbody>\n",
       "    <tr>\n",
       "      <th>2015-08-06</th>\n",
       "      <td>3.536610</td>\n",
       "      <td>2.521120</td>\n",
       "      <td>2.831620</td>\n",
       "      <td>2.772120</td>\n",
       "      <td>1.643290e+05</td>\n",
       "      <td>2.772120</td>\n",
       "    </tr>\n",
       "    <tr>\n",
       "      <th>2015-08-07</th>\n",
       "      <td>2.798810</td>\n",
       "      <td>0.714725</td>\n",
       "      <td>2.793760</td>\n",
       "      <td>0.753325</td>\n",
       "      <td>6.741880e+05</td>\n",
       "      <td>0.753325</td>\n",
       "    </tr>\n",
       "    <tr>\n",
       "      <th>2015-08-08</th>\n",
       "      <td>0.879810</td>\n",
       "      <td>0.629191</td>\n",
       "      <td>0.706136</td>\n",
       "      <td>0.701897</td>\n",
       "      <td>5.321700e+05</td>\n",
       "      <td>0.701897</td>\n",
       "    </tr>\n",
       "    <tr>\n",
       "      <th>2015-08-09</th>\n",
       "      <td>0.729854</td>\n",
       "      <td>0.636546</td>\n",
       "      <td>0.713989</td>\n",
       "      <td>0.708448</td>\n",
       "      <td>4.052830e+05</td>\n",
       "      <td>0.708448</td>\n",
       "    </tr>\n",
       "    <tr>\n",
       "      <th>2015-08-10</th>\n",
       "      <td>1.131410</td>\n",
       "      <td>0.663235</td>\n",
       "      <td>0.708087</td>\n",
       "      <td>1.067860</td>\n",
       "      <td>1.463100e+06</td>\n",
       "      <td>1.067860</td>\n",
       "    </tr>\n",
       "    <tr>\n",
       "      <th>...</th>\n",
       "      <td>...</td>\n",
       "      <td>...</td>\n",
       "      <td>...</td>\n",
       "      <td>...</td>\n",
       "      <td>...</td>\n",
       "      <td>...</td>\n",
       "    </tr>\n",
       "    <tr>\n",
       "      <th>2021-04-18</th>\n",
       "      <td>2276.776855</td>\n",
       "      <td>2086.688721</td>\n",
       "      <td>2238.032715</td>\n",
       "      <td>2166.188721</td>\n",
       "      <td>3.406065e+10</td>\n",
       "      <td>2166.188721</td>\n",
       "    </tr>\n",
       "    <tr>\n",
       "      <th>2021-04-19</th>\n",
       "      <td>2345.834961</td>\n",
       "      <td>2060.143799</td>\n",
       "      <td>2161.939453</td>\n",
       "      <td>2330.210938</td>\n",
       "      <td>3.943348e+10</td>\n",
       "      <td>2330.210938</td>\n",
       "    </tr>\n",
       "    <tr>\n",
       "      <th>2021-04-20</th>\n",
       "      <td>2467.200684</td>\n",
       "      <td>2238.366943</td>\n",
       "      <td>2331.160156</td>\n",
       "      <td>2364.751709</td>\n",
       "      <td>3.889907e+10</td>\n",
       "      <td>2364.751709</td>\n",
       "    </tr>\n",
       "    <tr>\n",
       "      <th>2021-04-21</th>\n",
       "      <td>2641.094971</td>\n",
       "      <td>2315.960205</td>\n",
       "      <td>2357.871094</td>\n",
       "      <td>2403.535156</td>\n",
       "      <td>5.357590e+10</td>\n",
       "      <td>2403.535156</td>\n",
       "    </tr>\n",
       "    <tr>\n",
       "      <th>2021-04-23</th>\n",
       "      <td>2223.034424</td>\n",
       "      <td>0.649871</td>\n",
       "      <td>0.649916</td>\n",
       "      <td>2223.034424</td>\n",
       "      <td>5.679527e+10</td>\n",
       "      <td>2223.034424</td>\n",
       "    </tr>\n",
       "  </tbody>\n",
       "</table>\n",
       "<p>2083 rows × 6 columns</p>\n",
       "</div>"
      ],
      "text/plain": [
       "                   High          Low         Open        Close        Volume  \\\n",
       "Date                                                                           \n",
       "2015-08-06     3.536610     2.521120     2.831620     2.772120  1.643290e+05   \n",
       "2015-08-07     2.798810     0.714725     2.793760     0.753325  6.741880e+05   \n",
       "2015-08-08     0.879810     0.629191     0.706136     0.701897  5.321700e+05   \n",
       "2015-08-09     0.729854     0.636546     0.713989     0.708448  4.052830e+05   \n",
       "2015-08-10     1.131410     0.663235     0.708087     1.067860  1.463100e+06   \n",
       "...                 ...          ...          ...          ...           ...   \n",
       "2021-04-18  2276.776855  2086.688721  2238.032715  2166.188721  3.406065e+10   \n",
       "2021-04-19  2345.834961  2060.143799  2161.939453  2330.210938  3.943348e+10   \n",
       "2021-04-20  2467.200684  2238.366943  2331.160156  2364.751709  3.889907e+10   \n",
       "2021-04-21  2641.094971  2315.960205  2357.871094  2403.535156  5.357590e+10   \n",
       "2021-04-23  2223.034424     0.649871     0.649916  2223.034424  5.679527e+10   \n",
       "\n",
       "              Adj Close  \n",
       "Date                     \n",
       "2015-08-06     2.772120  \n",
       "2015-08-07     0.753325  \n",
       "2015-08-08     0.701897  \n",
       "2015-08-09     0.708448  \n",
       "2015-08-10     1.067860  \n",
       "...                 ...  \n",
       "2021-04-18  2166.188721  \n",
       "2021-04-19  2330.210938  \n",
       "2021-04-20  2364.751709  \n",
       "2021-04-21  2403.535156  \n",
       "2021-04-23  2223.034424  \n",
       "\n",
       "[2083 rows x 6 columns]"
      ]
     },
     "execution_count": 3,
     "metadata": {},
     "output_type": "execute_result"
    }
   ],
   "source": [
    "#Get stock quote\n",
    "# web.DataReader()\n",
    "df = web.DataReader('ETH-USD',data_source='yahoo', start = '2015-08-06', end = datetime.date.today())\n",
    "df"
   ]
  },
  {
   "cell_type": "code",
   "execution_count": 4,
   "metadata": {
    "colab": {
     "base_uri": "https://localhost:8080/",
     "height": 521
    },
    "executionInfo": {
     "elapsed": 7066,
     "status": "ok",
     "timestamp": 1618937022091,
     "user": {
      "displayName": "Teng Hoo",
      "photoUrl": "",
      "userId": "14576098628932161159"
     },
     "user_tz": -480
    },
    "id": "tKl9_C4CGhG4",
    "outputId": "a22f841f-096f-4fd4-8a8e-0c338d034f2b"
   },
   "outputs": [
    {
     "name": "stderr",
     "output_type": "stream",
     "text": [
      "/Applications/anaconda3/lib/python3.7/site-packages/pandas/plotting/_matplotlib/converter.py:103: FutureWarning: Using an implicitly registered datetime converter for a matplotlib plotting method. The converter was registered by pandas on import. Future versions of pandas will require you to explicitly register matplotlib converters.\n",
      "\n",
      "To register the converters:\n",
      "\t>>> from pandas.plotting import register_matplotlib_converters\n",
      "\t>>> register_matplotlib_converters()\n",
      "  warnings.warn(msg, FutureWarning)\n"
     ]
    },
    {
     "data": {
      "image/png": "[encoded data removed]",
      "text/plain": [
       "<Figure size 1152x576 with 1 Axes>"
      ]
     },
     "metadata": {
      "needs_background": "light"
     },
     "output_type": "display_data"
    }
   ],
   "source": [
    "plt.figure(figsize=(16,8))\n",
    "plt.title('ETH-USD stock price')\n",
    "plt.plot(df['Close'])\n",
    "plt.xlabel('Date',fontsize=18)\n",
    "plt.ylabel('Close',fontsize=18)\n",
    "plt.show()"
   ]
  },
  {
   "cell_type": "code",
   "execution_count": 5,
   "metadata": {
    "executionInfo": {
     "elapsed": 7063,
     "status": "ok",
     "timestamp": 1618937022092,
     "user": {
      "displayName": "Teng Hoo",
      "photoUrl": "",
      "userId": "14576098628932161159"
     },
     "user_tz": -480
    },
    "id": "u2NPnzVkG-5_"
   },
   "outputs": [],
   "source": [
    "data = df.filter(['Close'])\n",
    "type(data)\n",
    "#Turn data into numpy array\n",
    "dataset = data.values\n",
    "#train data model (find the length)\n",
    "training_data_len = math.ceil(len(dataset)*0.8)\n",
    "#training_data_len"
   ]
  },
  {
   "cell_type": "code",
   "execution_count": 6,
   "metadata": {},
   "outputs": [
    {
     "data": {
      "text/plain": [
       "1667"
      ]
     },
     "execution_count": 6,
     "metadata": {},
     "output_type": "execute_result"
    }
   ],
   "source": [
    "training_data_len"
   ]
  },
  {
   "cell_type": "code",
   "execution_count": 7,
   "metadata": {
    "colab": {
     "base_uri": "https://localhost:8080/"
    },
    "executionInfo": {
     "elapsed": 7027,
     "status": "ok",
     "timestamp": 1618937022094,
     "user": {
      "displayName": "Teng Hoo",
      "photoUrl": "",
      "userId": "14576098628932161159"
     },
     "user_tz": -480
    },
    "id": "MD4PB4j-HcUR",
    "outputId": "b45fd57d-98fc-4f1b-930f-1cd0fe422ac6"
   },
   "outputs": [
    {
     "name": "stdout",
     "output_type": "stream",
     "text": [
      "[array([2.77212   , 0.75332499, 0.70189703, 0.70844799, 1.06786001,\n",
      "       1.21744001, 1.82766998, 1.82787001, 1.68889999, 1.56603003,\n",
      "       1.20360994, 1.08704996, 1.25885999, 1.46492004, 1.39529002,\n",
      "       1.37923002, 1.35258996, 1.23126996, 1.14019001, 1.15998006,\n",
      "       1.14769995, 1.19138002, 1.18254995, 1.31927001, 1.35824001,\n",
      "       1.35160995, 1.29479003, 1.26493001, 1.27441001, 1.33880997,\n",
      "       1.29583001, 1.24664998, 1.24242997, 1.20650995, 1.16577005,\n",
      "       0.98297799, 1.03874004, 0.93600303, 0.87562197, 0.94441003,\n",
      "       0.907175  , 0.87423098, 0.85368502, 0.88239098, 0.93844497,\n",
      "       0.919047  , 0.90179598, 0.89340597, 0.81361002, 0.73622298,\n",
      "       0.78596401, 0.72083902, 0.58288598, 0.66114599, 0.738644  ,\n",
      "       0.69021499, 0.67857403, 0.68717098, 0.66837901, 0.62864298])]\n",
      "[0.6506450176239014]\n",
      "[array([2.77212   , 0.75332499, 0.70189703, 0.70844799, 1.06786001,\n",
      "       1.21744001, 1.82766998, 1.82787001, 1.68889999, 1.56603003,\n",
      "       1.20360994, 1.08704996, 1.25885999, 1.46492004, 1.39529002,\n",
      "       1.37923002, 1.35258996, 1.23126996, 1.14019001, 1.15998006,\n",
      "       1.14769995, 1.19138002, 1.18254995, 1.31927001, 1.35824001,\n",
      "       1.35160995, 1.29479003, 1.26493001, 1.27441001, 1.33880997,\n",
      "       1.29583001, 1.24664998, 1.24242997, 1.20650995, 1.16577005,\n",
      "       0.98297799, 1.03874004, 0.93600303, 0.87562197, 0.94441003,\n",
      "       0.907175  , 0.87423098, 0.85368502, 0.88239098, 0.93844497,\n",
      "       0.919047  , 0.90179598, 0.89340597, 0.81361002, 0.73622298,\n",
      "       0.78596401, 0.72083902, 0.58288598, 0.66114599, 0.738644  ,\n",
      "       0.69021499, 0.67857403, 0.68717098, 0.66837901, 0.62864298]), array([0.75332499, 0.70189703, 0.70844799, 1.06786001, 1.21744001,\n",
      "       1.82766998, 1.82787001, 1.68889999, 1.56603003, 1.20360994,\n",
      "       1.08704996, 1.25885999, 1.46492004, 1.39529002, 1.37923002,\n",
      "       1.35258996, 1.23126996, 1.14019001, 1.15998006, 1.14769995,\n",
      "       1.19138002, 1.18254995, 1.31927001, 1.35824001, 1.35160995,\n",
      "       1.29479003, 1.26493001, 1.27441001, 1.33880997, 1.29583001,\n",
      "       1.24664998, 1.24242997, 1.20650995, 1.16577005, 0.98297799,\n",
      "       1.03874004, 0.93600303, 0.87562197, 0.94441003, 0.907175  ,\n",
      "       0.87423098, 0.85368502, 0.88239098, 0.93844497, 0.919047  ,\n",
      "       0.90179598, 0.89340597, 0.81361002, 0.73622298, 0.78596401,\n",
      "       0.72083902, 0.58288598, 0.66114599, 0.738644  , 0.69021499,\n",
      "       0.67857403, 0.68717098, 0.66837901, 0.62864298, 0.65064502])]\n",
      "[0.6506450176239014, 0.609387993812561]\n",
      "[array([2.77212   , 0.75332499, 0.70189703, 0.70844799, 1.06786001,\n",
      "       1.21744001, 1.82766998, 1.82787001, 1.68889999, 1.56603003,\n",
      "       1.20360994, 1.08704996, 1.25885999, 1.46492004, 1.39529002,\n",
      "       1.37923002, 1.35258996, 1.23126996, 1.14019001, 1.15998006,\n",
      "       1.14769995, 1.19138002, 1.18254995, 1.31927001, 1.35824001,\n",
      "       1.35160995, 1.29479003, 1.26493001, 1.27441001, 1.33880997,\n",
      "       1.29583001, 1.24664998, 1.24242997, 1.20650995, 1.16577005,\n",
      "       0.98297799, 1.03874004, 0.93600303, 0.87562197, 0.94441003,\n",
      "       0.907175  , 0.87423098, 0.85368502, 0.88239098, 0.93844497,\n",
      "       0.919047  , 0.90179598, 0.89340597, 0.81361002, 0.73622298,\n",
      "       0.78596401, 0.72083902, 0.58288598, 0.66114599, 0.738644  ,\n",
      "       0.69021499, 0.67857403, 0.68717098, 0.66837901, 0.62864298]), array([0.75332499, 0.70189703, 0.70844799, 1.06786001, 1.21744001,\n",
      "       1.82766998, 1.82787001, 1.68889999, 1.56603003, 1.20360994,\n",
      "       1.08704996, 1.25885999, 1.46492004, 1.39529002, 1.37923002,\n",
      "       1.35258996, 1.23126996, 1.14019001, 1.15998006, 1.14769995,\n",
      "       1.19138002, 1.18254995, 1.31927001, 1.35824001, 1.35160995,\n",
      "       1.29479003, 1.26493001, 1.27441001, 1.33880997, 1.29583001,\n",
      "       1.24664998, 1.24242997, 1.20650995, 1.16577005, 0.98297799,\n",
      "       1.03874004, 0.93600303, 0.87562197, 0.94441003, 0.907175  ,\n",
      "       0.87423098, 0.85368502, 0.88239098, 0.93844497, 0.919047  ,\n",
      "       0.90179598, 0.89340597, 0.81361002, 0.73622298, 0.78596401,\n",
      "       0.72083902, 0.58288598, 0.66114599, 0.738644  , 0.69021499,\n",
      "       0.67857403, 0.68717098, 0.66837901, 0.62864298, 0.65064502]), array([0.70189703, 0.70844799, 1.06786001, 1.21744001, 1.82766998,\n",
      "       1.82787001, 1.68889999, 1.56603003, 1.20360994, 1.08704996,\n",
      "       1.25885999, 1.46492004, 1.39529002, 1.37923002, 1.35258996,\n",
      "       1.23126996, 1.14019001, 1.15998006, 1.14769995, 1.19138002,\n",
      "       1.18254995, 1.31927001, 1.35824001, 1.35160995, 1.29479003,\n",
      "       1.26493001, 1.27441001, 1.33880997, 1.29583001, 1.24664998,\n",
      "       1.24242997, 1.20650995, 1.16577005, 0.98297799, 1.03874004,\n",
      "       0.93600303, 0.87562197, 0.94441003, 0.907175  , 0.87423098,\n",
      "       0.85368502, 0.88239098, 0.93844497, 0.919047  , 0.90179598,\n",
      "       0.89340597, 0.81361002, 0.73622298, 0.78596401, 0.72083902,\n",
      "       0.58288598, 0.66114599, 0.738644  , 0.69021499, 0.67857403,\n",
      "       0.68717098, 0.66837901, 0.62864298, 0.65064502, 0.60938799])]\n",
      "[0.6506450176239014, 0.609387993812561, 0.6217160224914551]\n"
     ]
    }
   ],
   "source": [
    "#Create the training data set\n",
    "#Create the scaled training data sett\n",
    "train_data = dataset[0:training_data_len, :]\n",
    "#Split the data into x_train and y_train data sets\n",
    "x_train = []\n",
    "y_train = []\n",
    "\n",
    "#Taking the past 60 days to train the model\n",
    "for i in range (60,len(train_data)):\n",
    "  x_train.append(train_data[i-60:i,0])\n",
    "  y_train.append(train_data[i,0])\n",
    "  if i <= 62:\n",
    "     print(x_train)\n",
    "     print(y_train)"
   ]
  },
  {
   "cell_type": "code",
   "execution_count": 8,
   "metadata": {
    "executionInfo": {
     "elapsed": 7023,
     "status": "ok",
     "timestamp": 1618937022098,
     "user": {
      "displayName": "Teng Hoo",
      "photoUrl": "",
      "userId": "14576098628932161159"
     },
     "user_tz": -480
    },
    "id": "CutJ8-QaLws4"
   },
   "outputs": [],
   "source": [
    "#Convert x and y _ train sets to numpy arrays\n",
    "x_train, y_train = np.array(x_train), np.array(y_train)"
   ]
  },
  {
   "cell_type": "code",
   "execution_count": 9,
   "metadata": {
    "colab": {
     "base_uri": "https://localhost:8080/"
    },
    "executionInfo": {
     "elapsed": 7015,
     "status": "ok",
     "timestamp": 1618937022098,
     "user": {
      "displayName": "Teng Hoo",
      "photoUrl": "",
      "userId": "14576098628932161159"
     },
     "user_tz": -480
    },
    "id": "Syph6UtMM1D6",
    "outputId": "d2a364b1-ea60-4959-e101-da51456940b3"
   },
   "outputs": [
    {
     "data": {
      "text/plain": [
       "(1607, 60, 1)"
      ]
     },
     "execution_count": 9,
     "metadata": {},
     "output_type": "execute_result"
    }
   ],
   "source": [
    "#Reshape data - lstm excepts 3D in form [samples, time steps, number of features] x_train & y_train are 2D right now\n",
    "x_train = np.reshape(x_train, (x_train.shape[0],x_train.shape[1], 1))\n",
    "x_train.shape"
   ]
  },
  {
   "cell_type": "code",
   "execution_count": 12,
   "metadata": {},
   "outputs": [
    {
     "data": {
      "text/plain": [
       "array([[[  2.77212   ],\n",
       "        [  0.75332499],\n",
       "        [  0.70189703],\n",
       "        ...,\n",
       "        [  0.68717098],\n",
       "        [  0.66837901],\n",
       "        [  0.62864298]],\n",
       "\n",
       "       [[  0.75332499],\n",
       "        [  0.70189703],\n",
       "        [  0.70844799],\n",
       "        ...,\n",
       "        [  0.66837901],\n",
       "        [  0.62864298],\n",
       "        [  0.65064502]],\n",
       "\n",
       "       [[  0.70189703],\n",
       "        [  0.70844799],\n",
       "        [  1.06786001],\n",
       "        ...,\n",
       "        [  0.62864298],\n",
       "        [  0.65064502],\n",
       "        [  0.60938799]],\n",
       "\n",
       "       ...,\n",
       "\n",
       "       [[128.32270813],\n",
       "        [134.75798035],\n",
       "        [132.63348389],\n",
       "        ...,\n",
       "        [273.75415039],\n",
       "        [265.21643066],\n",
       "        [247.81759644]],\n",
       "\n",
       "       [[134.75798035],\n",
       "        [132.63348389],\n",
       "        [129.6108551 ],\n",
       "        ...,\n",
       "        [265.21643066],\n",
       "        [247.81759644],\n",
       "        [225.68026733]],\n",
       "\n",
       "       [[132.63348389],\n",
       "        [129.6108551 ],\n",
       "        [130.80200195],\n",
       "        ...,\n",
       "        [247.81759644],\n",
       "        [225.68026733],\n",
       "        [226.75338745]]])"
      ]
     },
     "execution_count": 12,
     "metadata": {},
     "output_type": "execute_result"
    }
   ],
   "source": [
    "x_train"
   ]
  },
  {
   "cell_type": "code",
   "execution_count": 13,
   "metadata": {},
   "outputs": [],
   "source": [
    "#Scale the data (normalisation)\n",
    "scaler = StandardScaler() #try standardscaler\n",
    "scaled_data = scaler.fit_transform(dataset)"
   ]
  },
  {
   "cell_type": "code",
   "execution_count": 14,
   "metadata": {
    "executionInfo": {
     "elapsed": 7014,
     "status": "ok",
     "timestamp": 1618937022099,
     "user": {
      "displayName": "Teng Hoo",
      "photoUrl": "",
      "userId": "14576098628932161159"
     },
     "user_tz": -480
    },
    "id": "Kb6XQF_SNY2A"
   },
   "outputs": [],
   "source": [
    "#Build the LSTM model\n",
    "model = Sequential()\n",
    "model.add(LSTM(50, return_sequences = True, input_shape=(x_train.shape[1], 1)))\n",
    "model.add(LSTM(50, return_sequences = False))\n",
    "model.add(Dense(25))\n",
    "model.add(Dense(1))"
   ]
  },
  {
   "cell_type": "code",
   "execution_count": 15,
   "metadata": {
    "executionInfo": {
     "elapsed": 8478,
     "status": "ok",
     "timestamp": 1618937023566,
     "user": {
      "displayName": "Teng Hoo",
      "photoUrl": "",
      "userId": "14576098628932161159"
     },
     "user_tz": -480
    },
    "id": "AwN0MuLEODXR"
   },
   "outputs": [],
   "source": [
    "#Compile model\n",
    "model.compile(optimizer='adam',loss='mean_squared_error') #test rmse"
   ]
  },
  {
   "cell_type": "code",
   "execution_count": 16,
   "metadata": {
    "colab": {
     "base_uri": "https://localhost:8080/"
    },
    "executionInfo": {
     "elapsed": 40264,
     "status": "ok",
     "timestamp": 1618937055363,
     "user": {
      "displayName": "Teng Hoo",
      "photoUrl": "",
      "userId": "14576098628932161159"
     },
     "user_tz": -480
    },
    "id": "ztmshpJMbY4r",
    "outputId": "d6c75a10-5c6d-43ed-a013-0e19a8370ed7"
   },
   "outputs": [
    {
     "name": "stdout",
     "output_type": "stream",
     "text": [
      "1607/1607 [==============================] - 51s 30ms/step - loss: 59743.6361\n"
     ]
    },
    {
     "data": {
      "text/plain": [
       "<tensorflow.python.keras.callbacks.History at 0x7fe2c6c43e90>"
      ]
     },
     "execution_count": 16,
     "metadata": {},
     "output_type": "execute_result"
    }
   ],
   "source": [
    "#train model\n",
    "model.fit(x_train,y_train, batch_size=1,epochs=1)"
   ]
  },
  {
   "cell_type": "code",
   "execution_count": 17,
   "metadata": {
    "executionInfo": {
     "elapsed": 40263,
     "status": "ok",
     "timestamp": 1618937055364,
     "user": {
      "displayName": "Teng Hoo",
      "photoUrl": "",
      "userId": "14576098628932161159"
     },
     "user_tz": -480
    },
    "id": "rQAZgX5bbgSU"
   },
   "outputs": [],
   "source": [
    "#Create testing data set\n",
    "#Create new array containing scaled values from 1524 to 1980\n",
    "test_data = scaled_data[training_data_len - 60: , :]\n",
    "#Create the data sets x_test & y_test\n",
    "x_test = []\n",
    "y_test = dataset[training_data_len:, :]\n",
    "for i in range(60,len(test_data)):\n",
    "  x_test.append(test_data[i-60:i,0])"
   ]
  },
  {
   "cell_type": "code",
   "execution_count": 18,
   "metadata": {
    "executionInfo": {
     "elapsed": 40261,
     "status": "ok",
     "timestamp": 1618937055364,
     "user": {
      "displayName": "Teng Hoo",
      "photoUrl": "",
      "userId": "14576098628932161159"
     },
     "user_tz": -480
    },
    "id": "ud0h1fOLcxnn"
   },
   "outputs": [],
   "source": [
    "#Convert data to a numpyarray\n",
    "x_test = np.array(x_test)"
   ]
  },
  {
   "cell_type": "code",
   "execution_count": 19,
   "metadata": {
    "executionInfo": {
     "elapsed": 40260,
     "status": "ok",
     "timestamp": 1618937055365,
     "user": {
      "displayName": "Teng Hoo",
      "photoUrl": "",
      "userId": "14576098628932161159"
     },
     "user_tz": -480
    },
    "id": "tAA14hRKdXgk"
   },
   "outputs": [],
   "source": [
    "#Reshape data to 3D for LSTM\n",
    "x_test = np.reshape(x_test, (x_test.shape[0],x_test.shape[1],1))"
   ]
  },
  {
   "cell_type": "code",
   "execution_count": 20,
   "metadata": {
    "executionInfo": {
     "elapsed": 41385,
     "status": "ok",
     "timestamp": 1618937056494,
     "user": {
      "displayName": "Teng Hoo",
      "photoUrl": "",
      "userId": "14576098628932161159"
     },
     "user_tz": -480
    },
    "id": "dVy1wIyvdo9P"
   },
   "outputs": [],
   "source": [
    "#Get model's predicted price values\n",
    "predictions = model.predict(x_test)\n",
    "predictions = scaler.inverse_transform(predictions)"
   ]
  },
  {
   "cell_type": "code",
   "execution_count": 21,
   "metadata": {
    "colab": {
     "base_uri": "https://localhost:8080/"
    },
    "executionInfo": {
     "elapsed": 41377,
     "status": "ok",
     "timestamp": 1618937056495,
     "user": {
      "displayName": "Teng Hoo",
      "photoUrl": "",
      "userId": "14576098628932161159"
     },
     "user_tz": -480
    },
    "id": "BZQAyu9megmn",
    "outputId": "00cecd34-872a-4fa3-b498-b3e90d5c619b"
   },
   "outputs": [
    {
     "data": {
      "text/plain": [
       "60228.801242021415"
      ]
     },
     "execution_count": 21,
     "metadata": {},
     "output_type": "execute_result"
    }
   ],
   "source": [
    "#Get the root mean squared error (RMSE) - sd of the residuals\n",
    "rmse = np.sqrt(np.mean(predictions-y_test)**2)\n",
    "# rmse value of 0 = predictions were exact, 60 = max error (depends on the number of layers you have - 60 days = 60 data points)\n",
    "rmse"
   ]
  },
  {
   "cell_type": "code",
   "execution_count": 22,
   "metadata": {
    "colab": {
     "base_uri": "https://localhost:8080/",
     "height": 627
    },
    "executionInfo": {
     "elapsed": 41369,
     "status": "ok",
     "timestamp": 1618937056501,
     "user": {
      "displayName": "Teng Hoo",
      "photoUrl": "",
      "userId": "14576098628932161159"
     },
     "user_tz": -480
    },
    "id": "OBL6ms5reyf1",
    "outputId": "697993a0-ce31-4505-da66-8c5b39948a17"
   },
   "outputs": [
    {
     "name": "stderr",
     "output_type": "stream",
     "text": [
      "/Applications/anaconda3/lib/python3.7/site-packages/ipykernel_launcher.py:4: SettingWithCopyWarning: \n",
      "A value is trying to be set on a copy of a slice from a DataFrame.\n",
      "Try using .loc[row_indexer,col_indexer] = value instead\n",
      "\n",
      "See the caveats in the documentation: http://pandas.pydata.org/pandas-docs/stable/user_guide/indexing.html#returning-a-view-versus-a-copy\n",
      "  after removing the cwd from sys.path.\n"
     ]
    },
    {
     "data": {
      "image/png": "[encoded data removed]",
      "text/plain": [
       "<Figure size 1152x576 with 1 Axes>"
      ]
     },
     "metadata": {
      "needs_background": "light"
     },
     "output_type": "display_data"
    }
   ],
   "source": [
    "#plot data\n",
    "train = data[:training_data_len]\n",
    "valid = data[training_data_len:]\n",
    "valid['Predictions'] = predictions\n",
    "#visualise model\n",
    "plt.figure(figsize = (16,8))\n",
    "plt.title('Model ETH-USD')\n",
    "plt.xlabel('Date',fontsize = 18)\n",
    "plt.ylabel('Closing Price ($)',fontsize = 18)\n",
    "plt.plot(train['Close'])\n",
    "plt.plot(valid[['Close','Predictions']])\n",
    "plt.legend(['Train','Val','Predictions'], loc='lower right')\n",
    "plt.show()"
   ]
  },
  {
   "cell_type": "code",
   "execution_count": 23,
   "metadata": {
    "colab": {
     "base_uri": "https://localhost:8080/",
     "height": 436
    },
    "executionInfo": {
     "elapsed": 41356,
     "status": "ok",
     "timestamp": 1618937056502,
     "user": {
      "displayName": "Teng Hoo",
      "photoUrl": "",
      "userId": "14576098628932161159"
     },
     "user_tz": -480
    },
    "id": "zHqLBfvUh8gq",
    "outputId": "f16020f6-9262-4065-c89c-916a3ca6de25"
   },
   "outputs": [
    {
     "data": {
      "text/html": [
       "<div>\n",
       "<style scoped>\n",
       "    .dataframe tbody tr th:only-of-type {\n",
       "        vertical-align: middle;\n",
       "    }\n",
       "\n",
       "    .dataframe tbody tr th {\n",
       "        vertical-align: top;\n",
       "    }\n",
       "\n",
       "    .dataframe thead th {\n",
       "        text-align: right;\n",
       "    }\n",
       "</style>\n",
       "<table border=\"1\" class=\"dataframe\">\n",
       "  <thead>\n",
       "    <tr style=\"text-align: right;\">\n",
       "      <th></th>\n",
       "      <th>Close</th>\n",
       "      <th>Predictions</th>\n",
       "    </tr>\n",
       "    <tr>\n",
       "      <th>Date</th>\n",
       "      <th></th>\n",
       "      <th></th>\n",
       "    </tr>\n",
       "  </thead>\n",
       "  <tbody>\n",
       "    <tr>\n",
       "      <th>2020-02-29</th>\n",
       "      <td>219.848511</td>\n",
       "      <td>146410.562500</td>\n",
       "    </tr>\n",
       "    <tr>\n",
       "      <th>2020-03-01</th>\n",
       "      <td>218.970596</td>\n",
       "      <td>146379.515625</td>\n",
       "    </tr>\n",
       "    <tr>\n",
       "      <th>2020-03-02</th>\n",
       "      <td>230.569778</td>\n",
       "      <td>146362.250000</td>\n",
       "    </tr>\n",
       "    <tr>\n",
       "      <th>2020-03-03</th>\n",
       "      <td>224.479630</td>\n",
       "      <td>146349.703125</td>\n",
       "    </tr>\n",
       "    <tr>\n",
       "      <th>2020-03-04</th>\n",
       "      <td>224.517975</td>\n",
       "      <td>146344.531250</td>\n",
       "    </tr>\n",
       "    <tr>\n",
       "      <th>...</th>\n",
       "      <td>...</td>\n",
       "      <td>...</td>\n",
       "    </tr>\n",
       "    <tr>\n",
       "      <th>2021-04-18</th>\n",
       "      <td>2166.188721</td>\n",
       "      <td>3670.888428</td>\n",
       "    </tr>\n",
       "    <tr>\n",
       "      <th>2021-04-19</th>\n",
       "      <td>2330.210938</td>\n",
       "      <td>3646.620605</td>\n",
       "    </tr>\n",
       "    <tr>\n",
       "      <th>2021-04-20</th>\n",
       "      <td>2364.751709</td>\n",
       "      <td>3674.629883</td>\n",
       "    </tr>\n",
       "    <tr>\n",
       "      <th>2021-04-21</th>\n",
       "      <td>2403.535156</td>\n",
       "      <td>3690.430908</td>\n",
       "    </tr>\n",
       "    <tr>\n",
       "      <th>2021-04-23</th>\n",
       "      <td>2223.034424</td>\n",
       "      <td>3706.891602</td>\n",
       "    </tr>\n",
       "  </tbody>\n",
       "</table>\n",
       "<p>416 rows × 2 columns</p>\n",
       "</div>"
      ],
      "text/plain": [
       "                  Close    Predictions\n",
       "Date                                  \n",
       "2020-02-29   219.848511  146410.562500\n",
       "2020-03-01   218.970596  146379.515625\n",
       "2020-03-02   230.569778  146362.250000\n",
       "2020-03-03   224.479630  146349.703125\n",
       "2020-03-04   224.517975  146344.531250\n",
       "...                 ...            ...\n",
       "2021-04-18  2166.188721    3670.888428\n",
       "2021-04-19  2330.210938    3646.620605\n",
       "2021-04-20  2364.751709    3674.629883\n",
       "2021-04-21  2403.535156    3690.430908\n",
       "2021-04-23  2223.034424    3706.891602\n",
       "\n",
       "[416 rows x 2 columns]"
      ]
     },
     "execution_count": 23,
     "metadata": {},
     "output_type": "execute_result"
    }
   ],
   "source": [
    "#Show valid price & Predicted prices\n",
    "valid"
   ]
  },
  {
   "cell_type": "code",
   "execution_count": 24,
   "metadata": {
    "colab": {
     "base_uri": "https://localhost:8080/"
    },
    "executionInfo": {
     "elapsed": 42269,
     "status": "ok",
     "timestamp": 1618937057429,
     "user": {
      "displayName": "Teng Hoo",
      "photoUrl": "",
      "userId": "14576098628932161159"
     },
     "user_tz": -480
    },
    "id": "vh0Z4sY7jqJW",
    "outputId": "7bdfcb32-431e-4f26-d21a-de73ca08ef7c"
   },
   "outputs": [
    {
     "name": "stdout",
     "output_type": "stream",
     "text": [
      "[[1222.7197]]\n"
     ]
    }
   ],
   "source": [
    "#Get the quote\n",
    "Eth_quote = web.DataReader('ETH-USD',data_source = 'yahoo', start = '2012-01-01', end = '2021-01-09')\n",
    "#Create a new dataframe\n",
    "new_df = Eth_quote.filter(['Close'])\n",
    "#Get the last 60 days clsoing price values and convert dataframe to an array\n",
    "last_60_days = new_df[-60:].values\n",
    "#Scale data between 0 and 1\n",
    "last_60_days_scaled = scaler.transform(last_60_days)\n",
    "#Create an empty list\n",
    "X_test = []\n",
    "#Append the past 60 days\n",
    "X_test.append(last_60_days_scaled)\n",
    "#Convert X_test dataset into an array\n",
    "X_test= np.array(X_test)\n",
    "#Reshape to 3D to use for LSTM\n",
    "X_test = np.reshape(X_test, (X_test.shape[0],X_test.shape[1], 1))\n",
    "#Get predicted scaled price\n",
    "pred_price = model.predict(X_test)\n",
    "#undo scaling\n",
    "pred_price = scaler.inverse_transform(pred_price)\n",
    "print(pred_price)"
   ]
  },
  {
   "cell_type": "code",
   "execution_count": 25,
   "metadata": {
    "colab": {
     "base_uri": "https://localhost:8080/"
    },
    "executionInfo": {
     "elapsed": 42690,
     "status": "ok",
     "timestamp": 1618937057858,
     "user": {
      "displayName": "Teng Hoo",
      "photoUrl": "",
      "userId": "14576098628932161159"
     },
     "user_tz": -480
    },
    "id": "N3UZEVHVkboH",
    "outputId": "016c8897-2f27-41e0-ac7d-49e7b6444f02"
   },
   "outputs": [
    {
     "name": "stdout",
     "output_type": "stream",
     "text": [
      "Date\n",
      "2015-08-06       2.772120\n",
      "2015-08-07       0.753325\n",
      "2015-08-08       0.701897\n",
      "2015-08-09       0.708448\n",
      "2015-08-10       1.067860\n",
      "                 ...     \n",
      "2021-01-06    1207.112183\n",
      "2021-01-07    1225.678101\n",
      "2021-01-08    1224.197144\n",
      "2021-01-09    1281.077271\n",
      "2021-01-10    1262.246704\n",
      "Name: Close, Length: 1980, dtype: float64\n"
     ]
    }
   ],
   "source": [
    "Eth_quote2 = web.DataReader('ETH-USD',data_source = 'yahoo', start = '2015-08-06', end = '2021-01-10')\n",
    "print(Eth_quote2['Close'])"
   ]
  },
  {
   "cell_type": "code",
   "execution_count": null,
   "metadata": {
    "executionInfo": {
     "elapsed": 42689,
     "status": "ok",
     "timestamp": 1618937057859,
     "user": {
      "displayName": "Teng Hoo",
      "photoUrl": "",
      "userId": "14576098628932161159"
     },
     "user_tz": -480
    },
    "id": "VzZG95kEluQ6"
   },
   "outputs": [],
   "source": []
  }
 ],
 "metadata": {
  "colab": {
   "authorship_tag": "ABX9TyMqgVwspKLrx+0aaMcF5OlQ",
   "name": "stock price prediction.ipynb",
   "provenance": []
  },
  "kernelspec": {
   "display_name": "Python 3",
   "language": "python",
   "name": "python3"
  },
  "language_info": {
   "codemirror_mode": {
    "name": "ipython",
    "version": 3
   },
   "file_extension": ".py",
   "mimetype": "text/x-python",
   "name": "python",
   "nbconvert_exporter": "python",
   "pygments_lexer": "ipython3",
   "version": "3.7.6"
  }
 },
 "nbformat": 4,
 "nbformat_minor": 1
}
