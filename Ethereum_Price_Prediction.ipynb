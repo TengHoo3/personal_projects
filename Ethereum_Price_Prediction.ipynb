{
 "cells": [
  {
   "cell_type": "code",
   "execution_count": 1,
   "metadata": {
    "id": "2qfB1hnsD3Ow"
   },
   "outputs": [],
   "source": [
    "#Uses LSTM (artificial recurrent neural network) to predict closing stock price for the next 60 days\n",
    "#of Ethereum using the past 60 days"
   ]
  },
  {
   "cell_type": "code",
   "execution_count": 2,
   "metadata": {},
   "outputs": [],
   "source": [
    "#Uses LSTM (artificial recurrent neural network) to predict closing stock price \n",
    "#of corporations using the past 60 days"
   ]
  },
  {
   "cell_type": "code",
   "execution_count": 3,
   "metadata": {},
   "outputs": [],
   "source": [
    "#import libraries\n",
    "import math\n",
    "import pandas_datareader as web\n",
    "import numpy as np\n",
    "import pandas as pd\n",
    "from sklearn.preprocessing import MinMaxScaler\n",
    "from keras.models import Sequential\n",
    "from keras.layers import Dense,LSTM\n",
    "import matplotlib.pyplot as plt\n",
    "from datetime import date"
   ]
  },
  {
   "cell_type": "code",
   "execution_count": 4,
   "metadata": {},
   "outputs": [
    {
     "data": {
      "text/html": [
       "<div>\n",
       "<style scoped>\n",
       "    .dataframe tbody tr th:only-of-type {\n",
       "        vertical-align: middle;\n",
       "    }\n",
       "\n",
       "    .dataframe tbody tr th {\n",
       "        vertical-align: top;\n",
       "    }\n",
       "\n",
       "    .dataframe thead th {\n",
       "        text-align: right;\n",
       "    }\n",
       "</style>\n",
       "<table border=\"1\" class=\"dataframe\">\n",
       "  <thead>\n",
       "    <tr style=\"text-align: right;\">\n",
       "      <th></th>\n",
       "      <th>High</th>\n",
       "      <th>Low</th>\n",
       "      <th>Open</th>\n",
       "      <th>Close</th>\n",
       "      <th>Volume</th>\n",
       "      <th>Adj Close</th>\n",
       "    </tr>\n",
       "    <tr>\n",
       "      <th>Date</th>\n",
       "      <th></th>\n",
       "      <th></th>\n",
       "      <th></th>\n",
       "      <th></th>\n",
       "      <th></th>\n",
       "      <th></th>\n",
       "    </tr>\n",
       "  </thead>\n",
       "  <tbody>\n",
       "    <tr>\n",
       "      <th>2015-08-06</th>\n",
       "      <td>3.536610</td>\n",
       "      <td>2.521120</td>\n",
       "      <td>2.831620</td>\n",
       "      <td>2.772120</td>\n",
       "      <td>1.643290e+05</td>\n",
       "      <td>2.772120</td>\n",
       "    </tr>\n",
       "    <tr>\n",
       "      <th>2015-08-07</th>\n",
       "      <td>2.798810</td>\n",
       "      <td>0.714725</td>\n",
       "      <td>2.793760</td>\n",
       "      <td>0.753325</td>\n",
       "      <td>6.741880e+05</td>\n",
       "      <td>0.753325</td>\n",
       "    </tr>\n",
       "    <tr>\n",
       "      <th>2015-08-08</th>\n",
       "      <td>0.879810</td>\n",
       "      <td>0.629191</td>\n",
       "      <td>0.706136</td>\n",
       "      <td>0.701897</td>\n",
       "      <td>5.321700e+05</td>\n",
       "      <td>0.701897</td>\n",
       "    </tr>\n",
       "    <tr>\n",
       "      <th>2015-08-09</th>\n",
       "      <td>0.729854</td>\n",
       "      <td>0.636546</td>\n",
       "      <td>0.713989</td>\n",
       "      <td>0.708448</td>\n",
       "      <td>4.052830e+05</td>\n",
       "      <td>0.708448</td>\n",
       "    </tr>\n",
       "    <tr>\n",
       "      <th>2015-08-10</th>\n",
       "      <td>1.131410</td>\n",
       "      <td>0.663235</td>\n",
       "      <td>0.708087</td>\n",
       "      <td>1.067860</td>\n",
       "      <td>1.463100e+06</td>\n",
       "      <td>1.067860</td>\n",
       "    </tr>\n",
       "    <tr>\n",
       "      <th>...</th>\n",
       "      <td>...</td>\n",
       "      <td>...</td>\n",
       "      <td>...</td>\n",
       "      <td>...</td>\n",
       "      <td>...</td>\n",
       "      <td>...</td>\n",
       "    </tr>\n",
       "    <tr>\n",
       "      <th>2021-04-18</th>\n",
       "      <td>2276.776855</td>\n",
       "      <td>2086.688721</td>\n",
       "      <td>2238.032715</td>\n",
       "      <td>2166.188721</td>\n",
       "      <td>3.406065e+10</td>\n",
       "      <td>2166.188721</td>\n",
       "    </tr>\n",
       "    <tr>\n",
       "      <th>2021-04-19</th>\n",
       "      <td>2345.834961</td>\n",
       "      <td>2060.143799</td>\n",
       "      <td>2161.939453</td>\n",
       "      <td>2330.210938</td>\n",
       "      <td>3.943348e+10</td>\n",
       "      <td>2330.210938</td>\n",
       "    </tr>\n",
       "    <tr>\n",
       "      <th>2021-04-20</th>\n",
       "      <td>2467.200684</td>\n",
       "      <td>2238.366943</td>\n",
       "      <td>2331.160156</td>\n",
       "      <td>2364.751709</td>\n",
       "      <td>3.889907e+10</td>\n",
       "      <td>2364.751709</td>\n",
       "    </tr>\n",
       "    <tr>\n",
       "      <th>2021-04-21</th>\n",
       "      <td>2641.094971</td>\n",
       "      <td>2315.960205</td>\n",
       "      <td>2357.871094</td>\n",
       "      <td>2403.535156</td>\n",
       "      <td>5.357590e+10</td>\n",
       "      <td>2403.535156</td>\n",
       "    </tr>\n",
       "    <tr>\n",
       "      <th>2021-04-23</th>\n",
       "      <td>2234.951660</td>\n",
       "      <td>0.649871</td>\n",
       "      <td>0.649916</td>\n",
       "      <td>2234.951660</td>\n",
       "      <td>5.807614e+10</td>\n",
       "      <td>2234.951660</td>\n",
       "    </tr>\n",
       "  </tbody>\n",
       "</table>\n",
       "<p>2083 rows × 6 columns</p>\n",
       "</div>"
      ],
      "text/plain": [
       "                   High          Low         Open        Close        Volume  \\\n",
       "Date                                                                           \n",
       "2015-08-06     3.536610     2.521120     2.831620     2.772120  1.643290e+05   \n",
       "2015-08-07     2.798810     0.714725     2.793760     0.753325  6.741880e+05   \n",
       "2015-08-08     0.879810     0.629191     0.706136     0.701897  5.321700e+05   \n",
       "2015-08-09     0.729854     0.636546     0.713989     0.708448  4.052830e+05   \n",
       "2015-08-10     1.131410     0.663235     0.708087     1.067860  1.463100e+06   \n",
       "...                 ...          ...          ...          ...           ...   \n",
       "2021-04-18  2276.776855  2086.688721  2238.032715  2166.188721  3.406065e+10   \n",
       "2021-04-19  2345.834961  2060.143799  2161.939453  2330.210938  3.943348e+10   \n",
       "2021-04-20  2467.200684  2238.366943  2331.160156  2364.751709  3.889907e+10   \n",
       "2021-04-21  2641.094971  2315.960205  2357.871094  2403.535156  5.357590e+10   \n",
       "2021-04-23  2234.951660     0.649871     0.649916  2234.951660  5.807614e+10   \n",
       "\n",
       "              Adj Close  \n",
       "Date                     \n",
       "2015-08-06     2.772120  \n",
       "2015-08-07     0.753325  \n",
       "2015-08-08     0.701897  \n",
       "2015-08-09     0.708448  \n",
       "2015-08-10     1.067860  \n",
       "...                 ...  \n",
       "2021-04-18  2166.188721  \n",
       "2021-04-19  2330.210938  \n",
       "2021-04-20  2364.751709  \n",
       "2021-04-21  2403.535156  \n",
       "2021-04-23  2234.951660  \n",
       "\n",
       "[2083 rows x 6 columns]"
      ]
     },
     "execution_count": 4,
     "metadata": {},
     "output_type": "execute_result"
    }
   ],
   "source": [
    "#Get stock quote\n",
    "# web.DataReader()\n",
    "df = web.DataReader('ETH-USD',data_source='yahoo', start = '2015-08-06', end = date.today())\n",
    "df"
   ]
  },
  {
   "cell_type": "code",
   "execution_count": 5,
   "metadata": {},
   "outputs": [
    {
     "name": "stderr",
     "output_type": "stream",
     "text": [
      "/Applications/anaconda3/lib/python3.7/site-packages/pandas/plotting/_matplotlib/converter.py:103: FutureWarning: Using an implicitly registered datetime converter for a matplotlib plotting method. The converter was registered by pandas on import. Future versions of pandas will require you to explicitly register matplotlib converters.\n",
      "\n",
      "To register the converters:\n",
      "\t>>> from pandas.plotting import register_matplotlib_converters\n",
      "\t>>> register_matplotlib_converters()\n",
      "  warnings.warn(msg, FutureWarning)\n"
     ]
    },
    {
     "data": {
      "image/png": "[encoded data removed]",
      "text/plain": [
       "<Figure size 1152x576 with 1 Axes>"
      ]
     },
     "metadata": {
      "needs_background": "light"
     },
     "output_type": "display_data"
    }
   ],
   "source": [
    "plt.figure(figsize=(16,8))\n",
    "plt.title('ETH-USD stock price')\n",
    "plt.plot(df['Close'])\n",
    "plt.xlabel('Date',fontsize=18)\n",
    "plt.ylabel('Close',fontsize=18)\n",
    "plt.show()"
   ]
  },
  {
   "cell_type": "code",
   "execution_count": 6,
   "metadata": {
    "id": "u2NPnzVkG-5_"
   },
   "outputs": [],
   "source": [
    "data = df.filter(['Close'])\n",
    "type(data)\n",
    "#Turn data into numpy array\n",
    "dataset = data.values\n",
    "dataset\n",
    "#train data model (find the length)\n",
    "training_data_len = math.ceil(len(dataset)*0.8)\n",
    "#training_data_len"
   ]
  },
  {
   "cell_type": "code",
   "execution_count": 7,
   "metadata": {},
   "outputs": [],
   "source": [
    "#Scale the data (normalisation)\n",
    "scaler = MinMaxScaler(feature_range=(0,1)) #try standardscaler\n",
    "scaled_data = scaler.fit_transform(dataset)"
   ]
  },
  {
   "cell_type": "code",
   "execution_count": 8,
   "metadata": {},
   "outputs": [
    {
     "data": {
      "text/plain": [
       "1667"
      ]
     },
     "execution_count": 8,
     "metadata": {},
     "output_type": "execute_result"
    }
   ],
   "source": [
    "train_data = scaled_data[0:training_data_len, :]\n",
    "len(train_data)"
   ]
  },
  {
   "cell_type": "code",
   "execution_count": 9,
   "metadata": {},
   "outputs": [
    {
     "name": "stdout",
     "output_type": "stream",
     "text": [
      "[array([9.27982006e-04, 1.26453465e-04, 1.06034860e-04, 1.08635812e-04,\n",
      "       2.51334295e-04, 3.10722515e-04, 5.53004041e-04, 5.53083461e-04,\n",
      "       4.97907757e-04, 4.49124306e-04, 3.05231520e-04, 2.58953343e-04,\n",
      "       3.27167621e-04, 4.08980292e-04, 3.81334863e-04, 3.74958513e-04,\n",
      "       3.64381527e-04, 3.16213462e-04, 2.80051702e-04, 2.87909010e-04,\n",
      "       2.83033400e-04, 3.00375837e-04, 2.96870006e-04, 3.51152402e-04,\n",
      "       3.66624782e-04, 3.63992427e-04, 3.41433037e-04, 3.29577619e-04,\n",
      "       3.33341493e-04, 3.58910411e-04, 3.41845944e-04, 3.22319842e-04,\n",
      "       3.20644358e-04, 3.06382918e-04, 2.90207830e-04, 2.17633319e-04,\n",
      "       2.39772703e-04, 1.98982704e-04, 1.75009424e-04, 2.02320561e-04,\n",
      "       1.87537023e-04, 1.74457153e-04, 1.66299726e-04, 1.77696942e-04,\n",
      "       1.99952237e-04, 1.92250598e-04, 1.85401373e-04, 1.82070261e-04,\n",
      "       1.50388621e-04, 1.19663403e-04, 1.39412241e-04, 1.13555462e-04,\n",
      "       5.87835305e-05, 8.98553466e-05, 1.20624629e-04, 1.01396706e-04,\n",
      "       9.67748564e-05, 1.00188133e-04, 9.27270967e-05, 7.69505746e-05])]\n",
      "[8.568611437436877e-05]\n",
      "[array([9.27982006e-04, 1.26453465e-04, 1.06034860e-04, 1.08635812e-04,\n",
      "       2.51334295e-04, 3.10722515e-04, 5.53004041e-04, 5.53083461e-04,\n",
      "       4.97907757e-04, 4.49124306e-04, 3.05231520e-04, 2.58953343e-04,\n",
      "       3.27167621e-04, 4.08980292e-04, 3.81334863e-04, 3.74958513e-04,\n",
      "       3.64381527e-04, 3.16213462e-04, 2.80051702e-04, 2.87909010e-04,\n",
      "       2.83033400e-04, 3.00375837e-04, 2.96870006e-04, 3.51152402e-04,\n",
      "       3.66624782e-04, 3.63992427e-04, 3.41433037e-04, 3.29577619e-04,\n",
      "       3.33341493e-04, 3.58910411e-04, 3.41845944e-04, 3.22319842e-04,\n",
      "       3.20644358e-04, 3.06382918e-04, 2.90207830e-04, 2.17633319e-04,\n",
      "       2.39772703e-04, 1.98982704e-04, 1.75009424e-04, 2.02320561e-04,\n",
      "       1.87537023e-04, 1.74457153e-04, 1.66299726e-04, 1.77696942e-04,\n",
      "       1.99952237e-04, 1.92250598e-04, 1.85401373e-04, 1.82070261e-04,\n",
      "       1.50388621e-04, 1.19663403e-04, 1.39412241e-04, 1.13555462e-04,\n",
      "       5.87835305e-05, 8.98553466e-05, 1.20624629e-04, 1.01396706e-04,\n",
      "       9.67748564e-05, 1.00188133e-04, 9.27270967e-05, 7.69505746e-05]), array([1.26453465e-04, 1.06034860e-04, 1.08635812e-04, 2.51334295e-04,\n",
      "       3.10722515e-04, 5.53004041e-04, 5.53083461e-04, 4.97907757e-04,\n",
      "       4.49124306e-04, 3.05231520e-04, 2.58953343e-04, 3.27167621e-04,\n",
      "       4.08980292e-04, 3.81334863e-04, 3.74958513e-04, 3.64381527e-04,\n",
      "       3.16213462e-04, 2.80051702e-04, 2.87909010e-04, 2.83033400e-04,\n",
      "       3.00375837e-04, 2.96870006e-04, 3.51152402e-04, 3.66624782e-04,\n",
      "       3.63992427e-04, 3.41433037e-04, 3.29577619e-04, 3.33341493e-04,\n",
      "       3.58910411e-04, 3.41845944e-04, 3.22319842e-04, 3.20644358e-04,\n",
      "       3.06382918e-04, 2.90207830e-04, 2.17633319e-04, 2.39772703e-04,\n",
      "       1.98982704e-04, 1.75009424e-04, 2.02320561e-04, 1.87537023e-04,\n",
      "       1.74457153e-04, 1.66299726e-04, 1.77696942e-04, 1.99952237e-04,\n",
      "       1.92250598e-04, 1.85401373e-04, 1.82070261e-04, 1.50388621e-04,\n",
      "       1.19663403e-04, 1.39412241e-04, 1.13555462e-04, 5.87835305e-05,\n",
      "       8.98553466e-05, 1.20624629e-04, 1.01396706e-04, 9.67748564e-05,\n",
      "       1.00188133e-04, 9.27270967e-05, 7.69505746e-05, 8.56861144e-05])]\n",
      "[8.568611437436877e-05, 6.930570829873068e-05]\n",
      "[array([9.27982006e-04, 1.26453465e-04, 1.06034860e-04, 1.08635812e-04,\n",
      "       2.51334295e-04, 3.10722515e-04, 5.53004041e-04, 5.53083461e-04,\n",
      "       4.97907757e-04, 4.49124306e-04, 3.05231520e-04, 2.58953343e-04,\n",
      "       3.27167621e-04, 4.08980292e-04, 3.81334863e-04, 3.74958513e-04,\n",
      "       3.64381527e-04, 3.16213462e-04, 2.80051702e-04, 2.87909010e-04,\n",
      "       2.83033400e-04, 3.00375837e-04, 2.96870006e-04, 3.51152402e-04,\n",
      "       3.66624782e-04, 3.63992427e-04, 3.41433037e-04, 3.29577619e-04,\n",
      "       3.33341493e-04, 3.58910411e-04, 3.41845944e-04, 3.22319842e-04,\n",
      "       3.20644358e-04, 3.06382918e-04, 2.90207830e-04, 2.17633319e-04,\n",
      "       2.39772703e-04, 1.98982704e-04, 1.75009424e-04, 2.02320561e-04,\n",
      "       1.87537023e-04, 1.74457153e-04, 1.66299726e-04, 1.77696942e-04,\n",
      "       1.99952237e-04, 1.92250598e-04, 1.85401373e-04, 1.82070261e-04,\n",
      "       1.50388621e-04, 1.19663403e-04, 1.39412241e-04, 1.13555462e-04,\n",
      "       5.87835305e-05, 8.98553466e-05, 1.20624629e-04, 1.01396706e-04,\n",
      "       9.67748564e-05, 1.00188133e-04, 9.27270967e-05, 7.69505746e-05]), array([1.26453465e-04, 1.06034860e-04, 1.08635812e-04, 2.51334295e-04,\n",
      "       3.10722515e-04, 5.53004041e-04, 5.53083461e-04, 4.97907757e-04,\n",
      "       4.49124306e-04, 3.05231520e-04, 2.58953343e-04, 3.27167621e-04,\n",
      "       4.08980292e-04, 3.81334863e-04, 3.74958513e-04, 3.64381527e-04,\n",
      "       3.16213462e-04, 2.80051702e-04, 2.87909010e-04, 2.83033400e-04,\n",
      "       3.00375837e-04, 2.96870006e-04, 3.51152402e-04, 3.66624782e-04,\n",
      "       3.63992427e-04, 3.41433037e-04, 3.29577619e-04, 3.33341493e-04,\n",
      "       3.58910411e-04, 3.41845944e-04, 3.22319842e-04, 3.20644358e-04,\n",
      "       3.06382918e-04, 2.90207830e-04, 2.17633319e-04, 2.39772703e-04,\n",
      "       1.98982704e-04, 1.75009424e-04, 2.02320561e-04, 1.87537023e-04,\n",
      "       1.74457153e-04, 1.66299726e-04, 1.77696942e-04, 1.99952237e-04,\n",
      "       1.92250598e-04, 1.85401373e-04, 1.82070261e-04, 1.50388621e-04,\n",
      "       1.19663403e-04, 1.39412241e-04, 1.13555462e-04, 5.87835305e-05,\n",
      "       8.98553466e-05, 1.20624629e-04, 1.01396706e-04, 9.67748564e-05,\n",
      "       1.00188133e-04, 9.27270967e-05, 7.69505746e-05, 8.56861144e-05]), array([1.06034860e-04, 1.08635812e-04, 2.51334295e-04, 3.10722515e-04,\n",
      "       5.53004041e-04, 5.53083461e-04, 4.97907757e-04, 4.49124306e-04,\n",
      "       3.05231520e-04, 2.58953343e-04, 3.27167621e-04, 4.08980292e-04,\n",
      "       3.81334863e-04, 3.74958513e-04, 3.64381527e-04, 3.16213462e-04,\n",
      "       2.80051702e-04, 2.87909010e-04, 2.83033400e-04, 3.00375837e-04,\n",
      "       2.96870006e-04, 3.51152402e-04, 3.66624782e-04, 3.63992427e-04,\n",
      "       3.41433037e-04, 3.29577619e-04, 3.33341493e-04, 3.58910411e-04,\n",
      "       3.41845944e-04, 3.22319842e-04, 3.20644358e-04, 3.06382918e-04,\n",
      "       2.90207830e-04, 2.17633319e-04, 2.39772703e-04, 1.98982704e-04,\n",
      "       1.75009424e-04, 2.02320561e-04, 1.87537023e-04, 1.74457153e-04,\n",
      "       1.66299726e-04, 1.77696942e-04, 1.99952237e-04, 1.92250598e-04,\n",
      "       1.85401373e-04, 1.82070261e-04, 1.50388621e-04, 1.19663403e-04,\n",
      "       1.39412241e-04, 1.13555462e-04, 5.87835305e-05, 8.98553466e-05,\n",
      "       1.20624629e-04, 1.01396706e-04, 9.67748564e-05, 1.00188133e-04,\n",
      "       9.27270967e-05, 7.69505746e-05, 8.56861144e-05, 6.93057083e-05])]\n",
      "[8.568611437436877e-05, 6.930570829873068e-05, 7.420034434411818e-05]\n"
     ]
    }
   ],
   "source": [
    "#Create the training data set\n",
    "#Create the scaled training data sett\n",
    "train_data = scaled_data[0:training_data_len, :]\n",
    "#Split the data into x_train and y_train data sets\n",
    "x_train = []\n",
    "y_train = []\n",
    "\n",
    "#Taking the past 60 days to train the model\n",
    "for i in range (60,len(train_data)):\n",
    "  x_train.append(train_data[i-60:i,0])\n",
    "  y_train.append(train_data[i,0])\n",
    "  if i <= 62:\n",
    "     print(x_train)\n",
    "     print(y_train)"
   ]
  },
  {
   "cell_type": "code",
   "execution_count": 10,
   "metadata": {},
   "outputs": [],
   "source": [
    "#Convert x and y _ train sets to numpy arrays\n",
    "x_train, y_train = np.array(x_train), np.array(y_train)"
   ]
  },
  {
   "cell_type": "code",
   "execution_count": 11,
   "metadata": {},
   "outputs": [
    {
     "data": {
      "text/plain": [
       "(1607, 60, 1)"
      ]
     },
     "execution_count": 11,
     "metadata": {},
     "output_type": "execute_result"
    }
   ],
   "source": [
    "#Reshape data - lstm excepts 3D in form [samples, time steps, number of features] x_train & y_train are 2D right now\n",
    "x_train = np.reshape(x_train, (x_train.shape[0],x_train.shape[1], 1))\n",
    "x_train.shape"
   ]
  },
  {
   "cell_type": "code",
   "execution_count": 12,
   "metadata": {},
   "outputs": [],
   "source": [
    "#Build the LSTM model\n",
    "model = Sequential()\n",
    "model.add(LSTM(50, return_sequences = True, input_shape=(x_train.shape[1], 1)))\n",
    "model.add(LSTM(50, return_sequences = False))\n",
    "model.add(Dense(25))\n",
    "model.add(Dense(1))"
   ]
  },
  {
   "cell_type": "code",
   "execution_count": 13,
   "metadata": {},
   "outputs": [],
   "source": [
    "#Compile model\n",
    "model.compile(optimizer='adam',loss='mean_squared_error') #test rmse"
   ]
  },
  {
   "cell_type": "code",
   "execution_count": 14,
   "metadata": {},
   "outputs": [
    {
     "name": "stdout",
     "output_type": "stream",
     "text": [
      "1607/1607 [==============================] - 46s 27ms/step - loss: 0.0016\n"
     ]
    },
    {
     "data": {
      "text/plain": [
       "<tensorflow.python.keras.callbacks.History at 0x7fe0caa92990>"
      ]
     },
     "execution_count": 14,
     "metadata": {},
     "output_type": "execute_result"
    }
   ],
   "source": [
    "#train model\n",
    "model.fit(x_train,y_train, batch_size=1,epochs=1)"
   ]
  },
  {
   "cell_type": "code",
   "execution_count": 15,
   "metadata": {},
   "outputs": [],
   "source": [
    "#Create testing data set\n",
    "#Create new array containing scaled values from 1524 to 1980\n",
    "test_data = scaled_data[training_data_len - 60: , :]\n",
    "#Create the data sets x_test & y_test\n",
    "x_test = []\n",
    "y_test = dataset[training_data_len:, :]\n",
    "for i in range(60,len(test_data)):\n",
    "  x_test.append(test_data[i-60:i,0])"
   ]
  },
  {
   "cell_type": "code",
   "execution_count": 16,
   "metadata": {},
   "outputs": [],
   "source": [
    "#Convert data to a numpyarray\n",
    "x_test = np.array(x_test)"
   ]
  },
  {
   "cell_type": "code",
   "execution_count": 17,
   "metadata": {},
   "outputs": [],
   "source": [
    "#Reshape data to 3D for LSTM\n",
    "x_test = np.reshape(x_test, (x_test.shape[0],x_test.shape[1],1))"
   ]
  },
  {
   "cell_type": "code",
   "execution_count": 18,
   "metadata": {},
   "outputs": [],
   "source": [
    "#Get model's predicted price values\n",
    "predictions = model.predict(x_test)\n",
    "predictions = scaler.inverse_transform(predictions)"
   ]
  },
  {
   "cell_type": "code",
   "execution_count": 19,
   "metadata": {
    "colab": {
     "base_uri": "https://localhost:8080/"
    },
    "id": "BZQAyu9megmn",
    "outputId": "00cecd34-872a-4fa3-b498-b3e90d5c619b"
   },
   "outputs": [
    {
     "data": {
      "text/plain": [
       "25.17298074869009"
      ]
     },
     "execution_count": 19,
     "metadata": {},
     "output_type": "execute_result"
    }
   ],
   "source": [
    "#Get the root mean squared error (RMSE) - sd of the residuals\n",
    "rmse = np.sqrt(np.mean(predictions-y_test)**2)\n",
    "# rmse value of 0 = predictions were exact, 60 = max error (depends on the number of layers you have - 60 days = 60 data points)\n",
    "rmse"
   ]
  },
  {
   "cell_type": "code",
   "execution_count": 20,
   "metadata": {},
   "outputs": [
    {
     "name": "stderr",
     "output_type": "stream",
     "text": [
      "/Applications/anaconda3/lib/python3.7/site-packages/ipykernel_launcher.py:4: SettingWithCopyWarning: \n",
      "A value is trying to be set on a copy of a slice from a DataFrame.\n",
      "Try using .loc[row_indexer,col_indexer] = value instead\n",
      "\n",
      "See the caveats in the documentation: http://pandas.pydata.org/pandas-docs/stable/user_guide/indexing.html#returning-a-view-versus-a-copy\n",
      "  after removing the cwd from sys.path.\n"
     ]
    },
    {
     "data": {
      "image/png": "[encoded data removed]",
      "text/plain": [
       "<Figure size 1152x576 with 1 Axes>"
      ]
     },
     "metadata": {
      "needs_background": "light"
     },
     "output_type": "display_data"
    }
   ],
   "source": [
    "#plot data\n",
    "train = data[:training_data_len]\n",
    "valid = data[training_data_len:]\n",
    "valid['Predictions'] = predictions\n",
    "#visualise model\n",
    "plt.figure(figsize = (16,8))\n",
    "plt.title('Model ETH-USD')\n",
    "plt.xlabel('Date',fontsize = 18)\n",
    "plt.ylabel('Closing Price ($)',fontsize = 18)\n",
    "plt.plot(train['Close'])\n",
    "plt.plot(valid[['Close','Predictions']])\n",
    "plt.legend(['Train','Val','Predictions'], loc='lower right')\n",
    "plt.show()"
   ]
  },
  {
   "cell_type": "code",
   "execution_count": 21,
   "metadata": {},
   "outputs": [
    {
     "data": {
      "text/html": [
       "<div>\n",
       "<style scoped>\n",
       "    .dataframe tbody tr th:only-of-type {\n",
       "        vertical-align: middle;\n",
       "    }\n",
       "\n",
       "    .dataframe tbody tr th {\n",
       "        vertical-align: top;\n",
       "    }\n",
       "\n",
       "    .dataframe thead th {\n",
       "        text-align: right;\n",
       "    }\n",
       "</style>\n",
       "<table border=\"1\" class=\"dataframe\">\n",
       "  <thead>\n",
       "    <tr style=\"text-align: right;\">\n",
       "      <th></th>\n",
       "      <th>Close</th>\n",
       "      <th>Predictions</th>\n",
       "    </tr>\n",
       "    <tr>\n",
       "      <th>Date</th>\n",
       "      <th></th>\n",
       "      <th></th>\n",
       "    </tr>\n",
       "  </thead>\n",
       "  <tbody>\n",
       "    <tr>\n",
       "      <th>2020-02-29</th>\n",
       "      <td>219.848511</td>\n",
       "      <td>257.549896</td>\n",
       "    </tr>\n",
       "    <tr>\n",
       "      <th>2020-03-01</th>\n",
       "      <td>218.970596</td>\n",
       "      <td>251.479340</td>\n",
       "    </tr>\n",
       "    <tr>\n",
       "      <th>2020-03-02</th>\n",
       "      <td>230.569778</td>\n",
       "      <td>246.265945</td>\n",
       "    </tr>\n",
       "    <tr>\n",
       "      <th>2020-03-03</th>\n",
       "      <td>224.479630</td>\n",
       "      <td>243.715317</td>\n",
       "    </tr>\n",
       "    <tr>\n",
       "      <th>2020-03-04</th>\n",
       "      <td>224.517975</td>\n",
       "      <td>242.008652</td>\n",
       "    </tr>\n",
       "    <tr>\n",
       "      <th>...</th>\n",
       "      <td>...</td>\n",
       "      <td>...</td>\n",
       "    </tr>\n",
       "    <tr>\n",
       "      <th>2021-04-18</th>\n",
       "      <td>2166.188721</td>\n",
       "      <td>2210.128174</td>\n",
       "    </tr>\n",
       "    <tr>\n",
       "      <th>2021-04-19</th>\n",
       "      <td>2330.210938</td>\n",
       "      <td>2171.569580</td>\n",
       "    </tr>\n",
       "    <tr>\n",
       "      <th>2021-04-20</th>\n",
       "      <td>2364.751709</td>\n",
       "      <td>2157.985107</td>\n",
       "    </tr>\n",
       "    <tr>\n",
       "      <th>2021-04-21</th>\n",
       "      <td>2403.535156</td>\n",
       "      <td>2161.029541</td>\n",
       "    </tr>\n",
       "    <tr>\n",
       "      <th>2021-04-23</th>\n",
       "      <td>2234.951660</td>\n",
       "      <td>2176.947021</td>\n",
       "    </tr>\n",
       "  </tbody>\n",
       "</table>\n",
       "<p>416 rows × 2 columns</p>\n",
       "</div>"
      ],
      "text/plain": [
       "                  Close  Predictions\n",
       "Date                                \n",
       "2020-02-29   219.848511   257.549896\n",
       "2020-03-01   218.970596   251.479340\n",
       "2020-03-02   230.569778   246.265945\n",
       "2020-03-03   224.479630   243.715317\n",
       "2020-03-04   224.517975   242.008652\n",
       "...                 ...          ...\n",
       "2021-04-18  2166.188721  2210.128174\n",
       "2021-04-19  2330.210938  2171.569580\n",
       "2021-04-20  2364.751709  2157.985107\n",
       "2021-04-21  2403.535156  2161.029541\n",
       "2021-04-23  2234.951660  2176.947021\n",
       "\n",
       "[416 rows x 2 columns]"
      ]
     },
     "execution_count": 21,
     "metadata": {},
     "output_type": "execute_result"
    }
   ],
   "source": [
    "#Show valid price & Predicted prices\n",
    "valid"
   ]
  },
  {
   "cell_type": "code",
   "execution_count": 22,
   "metadata": {},
   "outputs": [
    {
     "name": "stdout",
     "output_type": "stream",
     "text": [
      "[[2166.4429]]\n"
     ]
    }
   ],
   "source": [
    "#Get the quote\n",
    "Eth_quote = web.DataReader('ETH-USD',data_source = 'yahoo', start = '2015-08-06', end = date.today())\n",
    "#Create a new dataframe\n",
    "new_df = Eth_quote.filter(['Close'])\n",
    "#Get the last 60 days clsoing price values and convert dataframe to an array\n",
    "last_60_days = new_df[-60:].values\n",
    "#Scale data between 0 and 1\n",
    "last_60_days_scaled = scaler.transform(last_60_days)\n",
    "#Create an empty list\n",
    "X_test = []\n",
    "#Append the past 60 days\n",
    "X_test.append(last_60_days_scaled)\n",
    "#Convert X_test dataset into an array\n",
    "X_test= np.array(X_test)\n",
    "#Reshape to 3D to use for LSTM\n",
    "X_test = np.reshape(X_test, (X_test.shape[0],X_test.shape[1], 1))\n",
    "#Get predicted scaled price\n",
    "pred_price = model.predict(X_test)\n",
    "#undo scaling\n",
    "pred_price = scaler.inverse_transform(pred_price)\n",
    "print(pred_price)"
   ]
  }
 ],
 "metadata": {
  "colab": {
   "name": "stock price prediction.ipynb",
   "provenance": []
  },
  "kernelspec": {
   "display_name": "Python 3",
   "language": "python",
   "name": "python3"
  },
  "language_info": {
   "codemirror_mode": {
    "name": "ipython",
    "version": 3
   },
   "file_extension": ".py",
   "mimetype": "text/x-python",
   "name": "python",
   "nbconvert_exporter": "python",
   "pygments_lexer": "ipython3",
   "version": "3.7.6"
  }
 },
 "nbformat": 4,
 "nbformat_minor": 1
}
