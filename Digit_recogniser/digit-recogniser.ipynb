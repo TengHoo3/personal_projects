{
 "cells": [
  {
   "cell_type": "code",
   "execution_count": 1,
   "metadata": {
    "_cell_guid": "b1076dfc-b9ad-4769-8c92-a6c4dae69d19",
    "_uuid": "8f2839f25d086af736a60e9eeb907d3b93b6e0e5"
   },
   "outputs": [],
   "source": [
    "import numpy as np\n",
    "import pandas as pd\n",
    "import tensorflow as tf\n",
    "from keras.utils.np_utils import to_categorical\n",
    "from sklearn.metrics import accuracy_score"
   ]
  },
  {
   "cell_type": "code",
   "execution_count": 2,
   "metadata": {},
   "outputs": [],
   "source": [
    "train = pd.read_csv('mnist_train_small.csv')\n",
    "test = pd.read_csv('mnist_test.csv')"
   ]
  },
  {
   "cell_type": "code",
   "execution_count": 4,
   "metadata": {},
   "outputs": [],
   "source": [
    "X_train = train.iloc[:,1:]\n",
    "y_train = train.iloc[:,0]\n",
    "X_train = X_train/255\n",
    "X_test = test.iloc[:,1:]\n",
    "y_test = test.iloc[:,0]\n",
    "X_test = X_test/255\n",
    "X_train = X_train.values.reshape(-1, 28, 28, 1)  # -1 all values *unlimited*\n",
    "X_test = X_test.values.reshape(-1, 28, 28, 1)\n",
    "y_train_cat = to_categorical(y_train, num_classes=10) #need to have 10 nodes at output layer (binary nodes for each )"
   ]
  },
  {
   "cell_type": "code",
   "execution_count": 5,
   "metadata": {},
   "outputs": [
    {
     "name": "stdout",
     "output_type": "stream",
     "text": [
      "(19999, 28, 28, 1) (9999, 28, 28, 1) (19999,) (9999,)\n"
     ]
    }
   ],
   "source": [
    "print(X_train.shape,X_test.shape,y_train.shape,y_test.shape)"
   ]
  },
  {
   "cell_type": "code",
   "execution_count": 6,
   "metadata": {},
   "outputs": [],
   "source": [
    "#Build Model - convolution, non-linear transformation, pooling, flatten\n",
    "Model = tf.keras.Sequential()\n",
    "Model.add(tf.keras.layers.Conv2D(filters=32,kernel_size=(3,3),padding='same',\n",
    "                                activation = 'relu',input_shape=(28,28,1)))\n",
    "Model.add(tf.keras.layers.MaxPool2D(pool_size=(2,2),strides=2,padding='same'))\n",
    "Model.add(tf.keras.layers.Dropout(0.2))\n",
    "Model.add(tf.keras.layers.Conv2D(filters=32,kernel_size=(3,3),padding='same',\n",
    "                                activation = 'relu',input_shape=(28,28,1)))\n",
    "Model.add(tf.keras.layers.MaxPool2D(pool_size=(2,2),strides=2,padding='same'))\n",
    "Model.add(tf.keras.layers.Dropout(0.2)) \n",
    "Model.add(tf.keras.layers.Flatten())\n",
    "\n",
    "#build neural network\n",
    "Model.add(tf.keras.layers.Dense(units=256,activation='relu'))\n",
    "Model.add(tf.keras.layers.Dropout(0.2))\n",
    "Model.add(tf.keras.layers.Dense(units=10,activation='softmax'))\n",
    "\n",
    "#result 1 - dropout = 0.3, kernel_size = 3,3, optimizer = rmsprop 98.36%\n",
    "#result 2 - dropout = 0.3, kernel_size = 3,3, optimizer = adam 99.5%\n",
    "#result 3 - dropout = 0.3, kernel_size = 5,5, optimizer = rmsprop 99.05%\n",
    "#result 4 - dropout = 0.3, kernel_size = 5,5, optimizer = adam 99.14%\n",
    "#result 5 - dropout = 0.2, kernel_size = 3,3, optimizer = adam 99.4%"
   ]
  },
  {
   "cell_type": "code",
   "execution_count": 7,
   "metadata": {},
   "outputs": [
    {
     "name": "stdout",
     "output_type": "stream",
     "text": [
      "Model: \"sequential\"\n",
      "_________________________________________________________________\n",
      "Layer (type)                 Output Shape              Param #   \n",
      "=================================================================\n",
      "conv2d (Conv2D)              (None, 28, 28, 32)        320       \n",
      "_________________________________________________________________\n",
      "max_pooling2d (MaxPooling2D) (None, 14, 14, 32)        0         \n",
      "_________________________________________________________________\n",
      "dropout (Dropout)            (None, 14, 14, 32)        0         \n",
      "_________________________________________________________________\n",
      "conv2d_1 (Conv2D)            (None, 14, 14, 32)        9248      \n",
      "_________________________________________________________________\n",
      "max_pooling2d_1 (MaxPooling2 (None, 7, 7, 32)          0         \n",
      "_________________________________________________________________\n",
      "dropout_1 (Dropout)          (None, 7, 7, 32)          0         \n",
      "_________________________________________________________________\n",
      "flatten (Flatten)            (None, 1568)              0         \n",
      "_________________________________________________________________\n",
      "dense (Dense)                (None, 256)               401664    \n",
      "_________________________________________________________________\n",
      "dropout_2 (Dropout)          (None, 256)               0         \n",
      "_________________________________________________________________\n",
      "dense_1 (Dense)              (None, 10)                2570      \n",
      "=================================================================\n",
      "Total params: 413,802\n",
      "Trainable params: 413,802\n",
      "Non-trainable params: 0\n",
      "_________________________________________________________________\n"
     ]
    }
   ],
   "source": [
    "Model.summary()"
   ]
  },
  {
   "cell_type": "code",
   "execution_count": 8,
   "metadata": {},
   "outputs": [],
   "source": [
    "Model.compile(optimizer='adam',loss='sparse_categorical_crossentropy',metrics=['accuracy'])"
   ]
  },
  {
   "cell_type": "code",
   "execution_count": 9,
   "metadata": {},
   "outputs": [
    {
     "name": "stdout",
     "output_type": "stream",
     "text": [
      "Epoch 1/30\n",
      "625/625 [==============================] - 21s 32ms/step - loss: 0.6187 - accuracy: 0.8012 - val_loss: 0.1022 - val_accuracy: 0.9696\n",
      "Epoch 2/30\n",
      "625/625 [==============================] - 22s 36ms/step - loss: 0.1155 - accuracy: 0.9647 - val_loss: 0.0610 - val_accuracy: 0.9799\n",
      "Epoch 3/30\n",
      "625/625 [==============================] - 20s 32ms/step - loss: 0.0811 - accuracy: 0.9726 - val_loss: 0.0475 - val_accuracy: 0.9848\n",
      "Epoch 4/30\n",
      "625/625 [==============================] - 20s 32ms/step - loss: 0.0562 - accuracy: 0.9801 - val_loss: 0.0449 - val_accuracy: 0.9846\n",
      "Epoch 5/30\n",
      "625/625 [==============================] - 19s 30ms/step - loss: 0.0446 - accuracy: 0.9847 - val_loss: 0.0475 - val_accuracy: 0.9847\n",
      "Epoch 6/30\n",
      "625/625 [==============================] - 20s 32ms/step - loss: 0.0387 - accuracy: 0.9880 - val_loss: 0.0359 - val_accuracy: 0.9876\n",
      "Epoch 7/30\n",
      "625/625 [==============================] - 22s 35ms/step - loss: 0.0311 - accuracy: 0.9899 - val_loss: 0.0425 - val_accuracy: 0.9876\n",
      "Epoch 8/30\n",
      "625/625 [==============================] - 32s 52ms/step - loss: 0.0253 - accuracy: 0.9915 - val_loss: 0.0419 - val_accuracy: 0.9871\n",
      "Epoch 9/30\n",
      "625/625 [==============================] - 30s 48ms/step - loss: 0.0290 - accuracy: 0.9902 - val_loss: 0.0382 - val_accuracy: 0.9873\n",
      "Epoch 10/30\n",
      "625/625 [==============================] - 35s 56ms/step - loss: 0.0215 - accuracy: 0.9925 - val_loss: 0.0341 - val_accuracy: 0.9892\n",
      "Epoch 11/30\n",
      "625/625 [==============================] - 30s 47ms/step - loss: 0.0208 - accuracy: 0.9921 - val_loss: 0.0396 - val_accuracy: 0.9884\n",
      "Epoch 12/30\n",
      "625/625 [==============================] - 36s 58ms/step - loss: 0.0219 - accuracy: 0.9924 - val_loss: 0.0378 - val_accuracy: 0.9888\n",
      "Epoch 13/30\n",
      "625/625 [==============================] - 35s 56ms/step - loss: 0.0183 - accuracy: 0.9940 - val_loss: 0.0354 - val_accuracy: 0.9900\n",
      "Epoch 14/30\n",
      "625/625 [==============================] - 30s 48ms/step - loss: 0.0141 - accuracy: 0.9954 - val_loss: 0.0410 - val_accuracy: 0.9884\n",
      "Epoch 15/30\n",
      "625/625 [==============================] - 37s 59ms/step - loss: 0.0154 - accuracy: 0.9946 - val_loss: 0.0367 - val_accuracy: 0.9902\n",
      "Epoch 16/30\n",
      "625/625 [==============================] - 28s 45ms/step - loss: 0.0141 - accuracy: 0.9952 - val_loss: 0.0333 - val_accuracy: 0.9906\n",
      "Epoch 17/30\n",
      "625/625 [==============================] - 24s 39ms/step - loss: 0.0131 - accuracy: 0.9951 - val_loss: 0.0399 - val_accuracy: 0.9888\n",
      "Epoch 18/30\n",
      "625/625 [==============================] - 22s 35ms/step - loss: 0.0136 - accuracy: 0.9953 - val_loss: 0.0442 - val_accuracy: 0.9894\n",
      "Epoch 19/30\n",
      "625/625 [==============================] - 21s 33ms/step - loss: 0.0139 - accuracy: 0.9958 - val_loss: 0.0405 - val_accuracy: 0.9894\n",
      "Epoch 20/30\n",
      "625/625 [==============================] - 21s 34ms/step - loss: 0.0128 - accuracy: 0.9962 - val_loss: 0.0307 - val_accuracy: 0.9903\n",
      "Epoch 21/30\n",
      "625/625 [==============================] - 22s 35ms/step - loss: 0.0111 - accuracy: 0.9969 - val_loss: 0.0377 - val_accuracy: 0.9895\n",
      "Epoch 22/30\n",
      "625/625 [==============================] - 19s 31ms/step - loss: 0.0097 - accuracy: 0.9967 - val_loss: 0.0500 - val_accuracy: 0.9875\n",
      "Epoch 23/30\n",
      "625/625 [==============================] - 18s 30ms/step - loss: 0.0130 - accuracy: 0.9945 - val_loss: 0.0364 - val_accuracy: 0.9912\n",
      "Epoch 24/30\n",
      "625/625 [==============================] - 20s 33ms/step - loss: 0.0115 - accuracy: 0.9961 - val_loss: 0.0341 - val_accuracy: 0.9911\n",
      "Epoch 25/30\n",
      "625/625 [==============================] - 18s 29ms/step - loss: 0.0083 - accuracy: 0.9971 - val_loss: 0.0381 - val_accuracy: 0.9894\n",
      "Epoch 26/30\n",
      "625/625 [==============================] - 19s 30ms/step - loss: 0.0128 - accuracy: 0.9959 - val_loss: 0.0452 - val_accuracy: 0.9895\n",
      "Epoch 27/30\n",
      "625/625 [==============================] - 19s 30ms/step - loss: 0.0101 - accuracy: 0.9969 - val_loss: 0.0464 - val_accuracy: 0.9889\n",
      "Epoch 28/30\n",
      "625/625 [==============================] - 20s 32ms/step - loss: 0.0111 - accuracy: 0.9970 - val_loss: 0.0465 - val_accuracy: 0.9897\n",
      "Epoch 29/30\n",
      "625/625 [==============================] - 18s 29ms/step - loss: 0.0070 - accuracy: 0.9978 - val_loss: 0.0483 - val_accuracy: 0.9893\n",
      "Epoch 30/30\n",
      "625/625 [==============================] - 18s 29ms/step - loss: 0.0085 - accuracy: 0.9972 - val_loss: 0.0467 - val_accuracy: 0.9893\n"
     ]
    },
    {
     "data": {
      "text/plain": [
       "<tensorflow.python.keras.callbacks.History at 0x7f861a517a50>"
      ]
     },
     "execution_count": 9,
     "metadata": {},
     "output_type": "execute_result"
    }
   ],
   "source": [
    "Model.fit(X_train,y_train,batch_size=32,epochs=30,validation_data=(X_test,y_test))"
   ]
  },
  {
   "cell_type": "code",
   "execution_count": 47,
   "metadata": {},
   "outputs": [],
   "source": [
    "y_pred = np.argmax(Model.predict(X_test), axis=-1)"
   ]
  },
  {
   "cell_type": "code",
   "execution_count": 48,
   "metadata": {
    "scrolled": true
   },
   "outputs": [
    {
     "data": {
      "text/plain": [
       "0.9892989298929893"
      ]
     },
     "execution_count": 48,
     "metadata": {},
     "output_type": "execute_result"
    }
   ],
   "source": [
    "accuracy_score(y_test,y_pred)"
   ]
  },
  {
   "cell_type": "code",
   "execution_count": 41,
   "metadata": {},
   "outputs": [],
   "source": [
    "# y_result = np.argmax(y_pred,axis=1)\n",
    "# y_result.reshape(-1,1)\n",
    "# y_result = pd.Series(y_result,name='Label')\n",
    "# results = pd.Series(range(1,28001),name='ImageId')\n",
    "# results_5 = pd.concat([results,y_result],axis=1)"
   ]
  },
  {
   "cell_type": "code",
   "execution_count": 42,
   "metadata": {},
   "outputs": [],
   "source": [
    "# results.to_csv('digitrecog_rmsprop.csv',index=False)\n",
    "# results_2.to_csv('digitrecog_adam.csv',index=False)\n",
    "# results_3.to_csv('digitrecog_rmsprop2',index=False)\n",
    "# results_4.to_csv('digitrecog_adam2.csv',index=False)\n",
    "# results_5.to_csv('digitrecog_adam_dropout0.2.csv',index=False)"
   ]
  }
 ],
 "metadata": {
  "kernelspec": {
   "display_name": "Python 3",
   "language": "python",
   "name": "python3"
  },
  "language_info": {
   "codemirror_mode": {
    "name": "ipython",
    "version": 3
   },
   "file_extension": ".py",
   "mimetype": "text/x-python",
   "name": "python",
   "nbconvert_exporter": "python",
   "pygments_lexer": "ipython3",
   "version": "3.7.6"
  }
 },
 "nbformat": 4,
 "nbformat_minor": 4
}
